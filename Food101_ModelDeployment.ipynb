{
  "nbformat": 4,
  "nbformat_minor": 0,
  "metadata": {
    "colab": {
      "provenance": [],
      "gpuType": "T4",
      "authorship_tag": "ABX9TyONUVt+GnWD8cI5I+F8DhRt"
    },
    "kernelspec": {
      "name": "python3",
      "display_name": "Python 3"
    },
    "language_info": {
      "name": "python"
    },
    "accelerator": "GPU"
  },
  "cells": [
    {
      "cell_type": "code",
      "execution_count": 1,
      "metadata": {
        "id": "j8FiAh1w6dla"
      },
      "outputs": [],
      "source": [
        "import os\n",
        "import torch\n",
        "import torch.nn as nn\n",
        "import torchvision\n",
        "import torchvision.transforms as transforms\n",
        "import matplotlib.pyplot as plt"
      ]
    },
    {
      "cell_type": "code",
      "source": [
        "try:\n",
        "  from torchinfo import summary\n",
        "except:\n",
        "  print(\"[INFO] Couldn't find torchinfo... installing it.\")\n",
        "  !pip install -q torchinfo\n",
        "  from torchinfo import summary"
      ],
      "metadata": {
        "colab": {
          "base_uri": "https://localhost:8080/"
        },
        "id": "jEC965ifHSkc",
        "outputId": "49aca512-960b-41a2-eba2-bb74afbf5eeb"
      },
      "execution_count": 2,
      "outputs": [
        {
          "output_type": "stream",
          "name": "stdout",
          "text": [
            "[INFO] Couldn't find torchinfo... installing it.\n"
          ]
        }
      ]
    },
    {
      "cell_type": "code",
      "source": [
        "def create_effnet_b2_model(classes : int = 101):\n",
        "  weights = torchvision.models.EfficientNet_B2_Weights.DEFAULT\n",
        "  transforms = weights.transforms()\n",
        "  model = torchvision.models.efficientnet_b2(weights = weights)\n",
        "\n",
        "  for params in model.parameters():\n",
        "    params.requires_grad = False\n",
        "\n",
        "  model.classifier = nn.Sequential(\n",
        "      nn.Dropout(p = 0.3),\n",
        "      nn.Linear(in_features = 1408, out_features = classes)\n",
        "  )\n",
        "\n",
        "  return model, transforms"
      ],
      "metadata": {
        "id": "6cMOpaIs6bgU"
      },
      "execution_count": 3,
      "outputs": []
    },
    {
      "cell_type": "code",
      "source": [
        "food_101, food_101_transforms = create_effnet_b2_model()"
      ],
      "metadata": {
        "id": "fKH05M8R6cac",
        "colab": {
          "base_uri": "https://localhost:8080/"
        },
        "outputId": "b133d012-27f8-4dd9-e8de-fc4b7555499e"
      },
      "execution_count": 4,
      "outputs": [
        {
          "output_type": "stream",
          "name": "stderr",
          "text": [
            "Downloading: \"https://download.pytorch.org/models/efficientnet_b2_rwightman-c35c1473.pth\" to /root/.cache/torch/hub/checkpoints/efficientnet_b2_rwightman-c35c1473.pth\n",
            "100%|██████████| 35.2M/35.2M [00:00<00:00, 156MB/s]\n"
          ]
        }
      ]
    },
    {
      "cell_type": "code",
      "source": [
        "summary(model = food_101,\n",
        "        input_size=(1, 3, 224, 224),\n",
        "        col_names=[\"input_size\", \"output_size\", \"num_params\", \"trainable\"],\n",
        "        col_width=20,\n",
        "        row_settings=[\"var_names\"])"
      ],
      "metadata": {
        "colab": {
          "base_uri": "https://localhost:8080/"
        },
        "id": "80iglMhb7Y_o",
        "outputId": "c1f885c0-0893-4622-d840-c01b39d88ddf"
      },
      "execution_count": 5,
      "outputs": [
        {
          "output_type": "execute_result",
          "data": {
            "text/plain": [
              "============================================================================================================================================\n",
              "Layer (type (var_name))                                      Input Shape          Output Shape         Param #              Trainable\n",
              "============================================================================================================================================\n",
              "EfficientNet (EfficientNet)                                  [1, 3, 224, 224]     [1, 101]             --                   Partial\n",
              "├─Sequential (features)                                      [1, 3, 224, 224]     [1, 1408, 7, 7]      --                   False\n",
              "│    └─Conv2dNormActivation (0)                              [1, 3, 224, 224]     [1, 32, 112, 112]    --                   False\n",
              "│    │    └─Conv2d (0)                                       [1, 3, 224, 224]     [1, 32, 112, 112]    (864)                False\n",
              "│    │    └─BatchNorm2d (1)                                  [1, 32, 112, 112]    [1, 32, 112, 112]    (64)                 False\n",
              "│    │    └─SiLU (2)                                         [1, 32, 112, 112]    [1, 32, 112, 112]    --                   --\n",
              "│    └─Sequential (1)                                        [1, 32, 112, 112]    [1, 16, 112, 112]    --                   False\n",
              "│    │    └─MBConv (0)                                       [1, 32, 112, 112]    [1, 16, 112, 112]    (1,448)              False\n",
              "│    │    └─MBConv (1)                                       [1, 16, 112, 112]    [1, 16, 112, 112]    (612)                False\n",
              "│    └─Sequential (2)                                        [1, 16, 112, 112]    [1, 24, 56, 56]      --                   False\n",
              "│    │    └─MBConv (0)                                       [1, 16, 112, 112]    [1, 24, 56, 56]      (6,004)              False\n",
              "│    │    └─MBConv (1)                                       [1, 24, 56, 56]      [1, 24, 56, 56]      (10,710)             False\n",
              "│    │    └─MBConv (2)                                       [1, 24, 56, 56]      [1, 24, 56, 56]      (10,710)             False\n",
              "│    └─Sequential (3)                                        [1, 24, 56, 56]      [1, 48, 28, 28]      --                   False\n",
              "│    │    └─MBConv (0)                                       [1, 24, 56, 56]      [1, 48, 28, 28]      (16,518)             False\n",
              "│    │    └─MBConv (1)                                       [1, 48, 28, 28]      [1, 48, 28, 28]      (43,308)             False\n",
              "│    │    └─MBConv (2)                                       [1, 48, 28, 28]      [1, 48, 28, 28]      (43,308)             False\n",
              "│    └─Sequential (4)                                        [1, 48, 28, 28]      [1, 88, 14, 14]      --                   False\n",
              "│    │    └─MBConv (0)                                       [1, 48, 28, 28]      [1, 88, 14, 14]      (50,300)             False\n",
              "│    │    └─MBConv (1)                                       [1, 88, 14, 14]      [1, 88, 14, 14]      (123,750)            False\n",
              "│    │    └─MBConv (2)                                       [1, 88, 14, 14]      [1, 88, 14, 14]      (123,750)            False\n",
              "│    │    └─MBConv (3)                                       [1, 88, 14, 14]      [1, 88, 14, 14]      (123,750)            False\n",
              "│    └─Sequential (5)                                        [1, 88, 14, 14]      [1, 120, 14, 14]     --                   False\n",
              "│    │    └─MBConv (0)                                       [1, 88, 14, 14]      [1, 120, 14, 14]     (149,158)            False\n",
              "│    │    └─MBConv (1)                                       [1, 120, 14, 14]     [1, 120, 14, 14]     (237,870)            False\n",
              "│    │    └─MBConv (2)                                       [1, 120, 14, 14]     [1, 120, 14, 14]     (237,870)            False\n",
              "│    │    └─MBConv (3)                                       [1, 120, 14, 14]     [1, 120, 14, 14]     (237,870)            False\n",
              "│    └─Sequential (6)                                        [1, 120, 14, 14]     [1, 208, 7, 7]       --                   False\n",
              "│    │    └─MBConv (0)                                       [1, 120, 14, 14]     [1, 208, 7, 7]       (301,406)            False\n",
              "│    │    └─MBConv (1)                                       [1, 208, 7, 7]       [1, 208, 7, 7]       (686,868)            False\n",
              "│    │    └─MBConv (2)                                       [1, 208, 7, 7]       [1, 208, 7, 7]       (686,868)            False\n",
              "│    │    └─MBConv (3)                                       [1, 208, 7, 7]       [1, 208, 7, 7]       (686,868)            False\n",
              "│    │    └─MBConv (4)                                       [1, 208, 7, 7]       [1, 208, 7, 7]       (686,868)            False\n",
              "│    └─Sequential (7)                                        [1, 208, 7, 7]       [1, 352, 7, 7]       --                   False\n",
              "│    │    └─MBConv (0)                                       [1, 208, 7, 7]       [1, 352, 7, 7]       (846,900)            False\n",
              "│    │    └─MBConv (1)                                       [1, 352, 7, 7]       [1, 352, 7, 7]       (1,888,920)          False\n",
              "│    └─Conv2dNormActivation (8)                              [1, 352, 7, 7]       [1, 1408, 7, 7]      --                   False\n",
              "│    │    └─Conv2d (0)                                       [1, 352, 7, 7]       [1, 1408, 7, 7]      (495,616)            False\n",
              "│    │    └─BatchNorm2d (1)                                  [1, 1408, 7, 7]      [1, 1408, 7, 7]      (2,816)              False\n",
              "│    │    └─SiLU (2)                                         [1, 1408, 7, 7]      [1, 1408, 7, 7]      --                   --\n",
              "├─AdaptiveAvgPool2d (avgpool)                                [1, 1408, 7, 7]      [1, 1408, 1, 1]      --                   --\n",
              "├─Sequential (classifier)                                    [1, 1408]            [1, 101]             --                   True\n",
              "│    └─Dropout (0)                                           [1, 1408]            [1, 1408]            --                   --\n",
              "│    └─Linear (1)                                            [1, 1408]            [1, 101]             142,309              True\n",
              "============================================================================================================================================\n",
              "Total params: 7,843,303\n",
              "Trainable params: 142,309\n",
              "Non-trainable params: 7,700,994\n",
              "Total mult-adds (Units.MEGABYTES): 657.78\n",
              "============================================================================================================================================\n",
              "Input size (MB): 0.60\n",
              "Forward/backward pass size (MB): 156.80\n",
              "Params size (MB): 31.37\n",
              "Estimated Total Size (MB): 188.77\n",
              "============================================================================================================================================"
            ]
          },
          "metadata": {},
          "execution_count": 5
        }
      ]
    },
    {
      "cell_type": "code",
      "source": [
        "food_101_train_transforms = transforms.Compose([\n",
        "    transforms.TrivialAugmentWide(),\n",
        "    food_101_transforms\n",
        "])"
      ],
      "metadata": {
        "id": "192NB_Dl7no7"
      },
      "execution_count": 6,
      "outputs": []
    },
    {
      "cell_type": "code",
      "source": [
        "print(f\"Training transforms:\\n{food_101_train_transforms}\\n\")\n",
        "print(f\"Testing transforms:\\n{food_101_transforms}\")"
      ],
      "metadata": {
        "colab": {
          "base_uri": "https://localhost:8080/"
        },
        "id": "Ioy4It8n726D",
        "outputId": "6e3a75df-386e-4863-fd5e-007f36b3a668"
      },
      "execution_count": 7,
      "outputs": [
        {
          "output_type": "stream",
          "name": "stdout",
          "text": [
            "Training transforms:\n",
            "Compose(\n",
            "    TrivialAugmentWide(num_magnitude_bins=31, interpolation=InterpolationMode.NEAREST, fill=None)\n",
            "    ImageClassification(\n",
            "    crop_size=[288]\n",
            "    resize_size=[288]\n",
            "    mean=[0.485, 0.456, 0.406]\n",
            "    std=[0.229, 0.224, 0.225]\n",
            "    interpolation=InterpolationMode.BICUBIC\n",
            ")\n",
            ")\n",
            "\n",
            "Testing transforms:\n",
            "ImageClassification(\n",
            "    crop_size=[288]\n",
            "    resize_size=[288]\n",
            "    mean=[0.485, 0.456, 0.406]\n",
            "    std=[0.229, 0.224, 0.225]\n",
            "    interpolation=InterpolationMode.BICUBIC\n",
            ")\n"
          ]
        }
      ]
    },
    {
      "cell_type": "code",
      "source": [
        "train_set = torchvision.datasets.Food101(root = \"./data\", split = \"train\", transform = food_101_train_transforms, download = True)\n",
        "test_set = torchvision.datasets.Food101(root = \"./data\", split = \"test\", transform = food_101_transforms, download = True)"
      ],
      "metadata": {
        "id": "dqKQnWYaJES6",
        "colab": {
          "base_uri": "https://localhost:8080/"
        },
        "outputId": "2c3318f5-70d4-477e-a414-fd53da3947b2"
      },
      "execution_count": 8,
      "outputs": [
        {
          "output_type": "stream",
          "name": "stderr",
          "text": [
            "100%|██████████| 5.00G/5.00G [03:36<00:00, 23.1MB/s]\n"
          ]
        }
      ]
    },
    {
      "cell_type": "code",
      "source": [
        "train_set.classes[:10]"
      ],
      "metadata": {
        "id": "XvjYK8QLIJ5I",
        "colab": {
          "base_uri": "https://localhost:8080/"
        },
        "outputId": "e8e06ecd-326c-4234-9439-82f598d2737c"
      },
      "execution_count": 9,
      "outputs": [
        {
          "output_type": "execute_result",
          "data": {
            "text/plain": [
              "['apple_pie',\n",
              " 'baby_back_ribs',\n",
              " 'baklava',\n",
              " 'beef_carpaccio',\n",
              " 'beef_tartare',\n",
              " 'beet_salad',\n",
              " 'beignets',\n",
              " 'bibimbap',\n",
              " 'bread_pudding',\n",
              " 'breakfast_burrito']"
            ]
          },
          "metadata": {},
          "execution_count": 9
        }
      ]
    },
    {
      "cell_type": "code",
      "source": [
        "def split_dataset(dataset : torchvision.datasets,\n",
        "                  split_size : float = 0.2,\n",
        "                  seed : int = 42):\n",
        "\n",
        "  length_1 = int(len(dataset) * split_size)\n",
        "  length_2 = int(len(dataset) * (1 - split_size))\n",
        "\n",
        "  random_split_1, random_split_2 = torch.utils.data.random_split(dataset = dataset,\n",
        "                                                                 lengths = [length_1, length_2],\n",
        "                                                                 generator = torch.manual_seed(seed))\n",
        "\n",
        "  print(f\"[INFO] Splitting dataset of length {len(dataset)} into splits of size: {length_1} ({int(split_size*100)}%), {length_2} ({int((1-split_size)*100)}%)\")\n",
        "\n",
        "  return random_split_1, random_split_2"
      ],
      "metadata": {
        "id": "FKgdgLGjDsbW"
      },
      "execution_count": 10,
      "outputs": []
    },
    {
      "cell_type": "code",
      "source": [
        "train_data, _ = split_dataset(train_set)\n",
        "test_data, _ = split_dataset(test_set)\n",
        "len(train_data), len(test_data)"
      ],
      "metadata": {
        "colab": {
          "base_uri": "https://localhost:8080/"
        },
        "id": "TZ_DmrS0ILEc",
        "outputId": "66334b3c-18f4-4c6c-88b4-068cfa68416e"
      },
      "execution_count": 11,
      "outputs": [
        {
          "output_type": "stream",
          "name": "stdout",
          "text": [
            "[INFO] Splitting dataset of length 75750 into splits of size: 15150 (20%), 60600 (80%)\n",
            "[INFO] Splitting dataset of length 25250 into splits of size: 5050 (20%), 20200 (80%)\n"
          ]
        },
        {
          "output_type": "execute_result",
          "data": {
            "text/plain": [
              "(15150, 5050)"
            ]
          },
          "metadata": {},
          "execution_count": 11
        }
      ]
    },
    {
      "cell_type": "code",
      "source": [
        "batch_size = 32\n",
        "num_workers = os.cpu_count()\n",
        "train_dataLoader = torch.utils.data.DataLoader(dataset = train_data, batch_size = batch_size, shuffle = True, num_workers = num_workers)\n",
        "test_dataLoader = torch.utils.data.DataLoader(dataset = test_data, batch_size = batch_size, shuffle = False, num_workers = num_workers)"
      ],
      "metadata": {
        "id": "xJup-DNeIpDc"
      },
      "execution_count": 12,
      "outputs": []
    },
    {
      "cell_type": "code",
      "source": [
        "loss_fn = nn.CrossEntropyLoss(label_smoothing = 0.1)\n",
        "optimizer = torch.optim.Adam(params = food_101.parameters(), lr = 0.001)"
      ],
      "metadata": {
        "id": "wU43TdXAMA4n"
      },
      "execution_count": 13,
      "outputs": []
    },
    {
      "cell_type": "code",
      "source": [
        "def train_step(model : torch.nn.Module,\n",
        "               dataLoader : torch.utils.data.DataLoader,\n",
        "               loss_fn : torch.nn.Module,\n",
        "               optimizer : torch.optim.Optimizer,\n",
        "               device: torch.device):\n",
        "  train_total_loss, train_total_acc = 0, 0\n",
        "  model.train()\n",
        "\n",
        "  for batch, (X, y) in enumerate(dataLoader):\n",
        "    X, y = X.to(device), y.to(device)\n",
        "    optimizer.zero_grad()\n",
        "    train_logits = model(X)\n",
        "    train_loss = loss_fn(train_logits, y)\n",
        "    train_total_loss += train_loss.item()\n",
        "    train_loss.backward()\n",
        "    optimizer.step()\n",
        "\n",
        "    train_probs = torch.softmax(train_logits, dim = 1)\n",
        "    train_labels = torch.argmax(train_probs, dim = 1)\n",
        "    train_total_acc += ((train_labels == y).sum().item()) / len(train_labels)\n",
        "\n",
        "  train_total_loss = train_total_loss / len(dataLoader)\n",
        "  train_total_acc = train_total_acc / len(dataLoader)\n",
        "\n",
        "  return train_total_loss, train_total_acc\n",
        "\n",
        "def test_step(model : torch.nn.Module,\n",
        "              dataLoader : torch.utils.data.DataLoader,\n",
        "              loss_fn : torch.nn.Module,\n",
        "              device : torch.device):\n",
        "  total_test_loss, total_test_acc = 0, 0\n",
        "\n",
        "  model.eval()\n",
        "  with torch.inference_mode():\n",
        "    for batch, (X, y) in enumerate(dataLoader):\n",
        "      X, y = X.to(device), y.to(device)\n",
        "      test_logits = model(X)\n",
        "      test_loss = loss_fn(test_logits, y)\n",
        "      total_test_loss += test_loss.item()\n",
        "      test_labels = torch.argmax(test_logits, dim = 1)\n",
        "      total_test_acc += ((test_labels == y).sum().item()) / len(test_labels)\n",
        "\n",
        "    total_test_loss = total_test_loss / len(dataLoader)\n",
        "    total_test_acc = total_test_acc / len(dataLoader)\n",
        "\n",
        "  return total_test_loss, total_test_acc\n",
        "\n",
        "\n",
        "def train_test(model : torch.nn.Module,\n",
        "                train_dataLoader : torch.utils.data.DataLoader,\n",
        "                test_dataLoader : torch.utils.data.DataLoader,\n",
        "                loss_fn : torch.nn.Module,\n",
        "                optimizer : torch.optim.Optimizer,\n",
        "                epochs : int,\n",
        "                device : torch.device):\n",
        "\n",
        "  results = {\"train_loss\" : [],\n",
        "             \"train_acc\" : [],\n",
        "             \"test_loss\" : [],\n",
        "             \"test_acc\" : []}\n",
        "\n",
        "  model.to(device)\n",
        "\n",
        "  for epoch in range(epochs):\n",
        "\n",
        "    train_loss, train_acc = train_step(model = model,\n",
        "                                      dataLoader = train_dataLoader,\n",
        "                                      loss_fn = loss_fn,\n",
        "                                      optimizer = optimizer,\n",
        "                                      device = device)\n",
        "\n",
        "    test_loss, test_acc = test_step(model = model,\n",
        "                                    dataLoader = test_dataLoader,\n",
        "                                    loss_fn = loss_fn,\n",
        "                                    device = device)\n",
        "\n",
        "    print(\n",
        "          f\"Epoch: {epoch+1} | \"\n",
        "          f\"train_loss: {train_loss:.4f} | \"\n",
        "          f\"train_acc: {train_acc:.4f} | \"\n",
        "          f\"test_loss: {test_loss:.4f} | \"\n",
        "          f\"test_acc: {test_acc:.4f}\"\n",
        "        )\n",
        "\n",
        "\n",
        "    results[\"train_loss\"].append(train_loss)\n",
        "    results[\"train_acc\"].append(train_acc)\n",
        "    results[\"test_loss\"].append(test_loss)\n",
        "    results[\"test_acc\"].append(test_acc)\n",
        "\n",
        "  return results"
      ],
      "metadata": {
        "id": "Ar4IP4K5MzrM"
      },
      "execution_count": 18,
      "outputs": []
    },
    {
      "cell_type": "code",
      "source": [
        "food_101_results = train_test(model = food_101,\n",
        "                              train_dataLoader = train_dataLoader,\n",
        "                              test_dataLoader = test_dataLoader,\n",
        "                              loss_fn = loss_fn,\n",
        "                              optimizer = optimizer,\n",
        "                              epochs = 5,\n",
        "                              device = \"cuda\" if torch.cuda.is_available() else \"cpu\")"
      ],
      "metadata": {
        "colab": {
          "base_uri": "https://localhost:8080/"
        },
        "id": "3L9GDnTDIlY_",
        "outputId": "66eab418-da83-41d1-ef65-6f96af17ca43"
      },
      "execution_count": 19,
      "outputs": [
        {
          "output_type": "stream",
          "name": "stdout",
          "text": [
            "Epoch: 1 | train_loss: 2.6591 | train_acc: 0.4842 | test_loss: 2.3544 | test_acc: 0.5605\n",
            "Epoch: 2 | train_loss: 2.5507 | train_acc: 0.5125 | test_loss: 2.3058 | test_acc: 0.5763\n",
            "Epoch: 3 | train_loss: 2.4860 | train_acc: 0.5244 | test_loss: 2.2602 | test_acc: 0.5854\n",
            "Epoch: 4 | train_loss: 2.4437 | train_acc: 0.5361 | test_loss: 2.2532 | test_acc: 0.5828\n",
            "Epoch: 5 | train_loss: 2.4252 | train_acc: 0.5412 | test_loss: 2.2614 | test_acc: 0.5831\n"
          ]
        }
      ]
    },
    {
      "cell_type": "code",
      "source": [
        "def plot_loss_curves(results):\n",
        "  train_loss = results[\"train_loss\"]\n",
        "  train_acc = results[\"train_acc\"]\n",
        "\n",
        "  test_loss = results[\"test_loss\"]\n",
        "  test_acc = results[\"test_acc\"]\n",
        "\n",
        "  epochs = range(len(results[\"train_loss\"]))\n",
        "\n",
        "  plt.figure()\n",
        "  plt.subplot(1, 2, 1)\n",
        "  plt.plot(epochs, train_loss, label = \"train_loss\")\n",
        "  plt.plot(epochs, test_loss, label = \"test_loss\")\n",
        "  plt.title(\"Loss\")\n",
        "  plt.xlabel(\"Epochs\")\n",
        "  plt.legend()\n",
        "\n",
        "  plt.subplot(1, 2, 2)\n",
        "  plt.plot(epochs, train_acc, label = \"train_acc\")\n",
        "  plt.plot(epochs, test_acc, label = \"test_acc\")\n",
        "  plt.title(\"Accuracy\")\n",
        "  plt.xlabel(\"Epochs\")\n",
        "  plt.legend()"
      ],
      "metadata": {
        "id": "6raggnFQSw02"
      },
      "execution_count": 28,
      "outputs": []
    },
    {
      "cell_type": "code",
      "source": [
        "plot_loss_curves(food_101_results)"
      ],
      "metadata": {
        "colab": {
          "base_uri": "https://localhost:8080/",
          "height": 472
        },
        "id": "W_IbKpYBVCvy",
        "outputId": "d506a728-1af2-4972-b50a-a72ccb24e589"
      },
      "execution_count": 29,
      "outputs": [
        {
          "output_type": "display_data",
          "data": {
            "text/plain": [
              "<Figure size 640x480 with 2 Axes>"
            ],
            "image/png": "[encoded data removed]"
          },
          "metadata": {}
        }
      ]
    },
    {
      "cell_type": "code",
      "source": [
        "def save_model(model : torch.nn.Module,\n",
        "               target_dir : str,\n",
        "               model_name : str):\n",
        "  import pathlib\n",
        "\n",
        "  target_dir_path = pathlib.Path(target_dir)\n",
        "  target_dir_path.mkdir(parents = True, exist_ok = True)\n",
        "\n",
        "  assert model_name.endswith(\".pth\") or model_name.endswith(\".pt\"), \"model name should end with '.pth' or '.pt'.\"\n",
        "\n",
        "  model_save_path = target_dir_path / model_name\n",
        "\n",
        "  print(f\"[INFO] Saving model to: {model_save_path}\")\n",
        "  torch.save(obj = model.state_dict(),\n",
        "             f = model_save_path)"
      ],
      "metadata": {
        "id": "KNKTvn6oVEQf"
      },
      "execution_count": 32,
      "outputs": []
    },
    {
      "cell_type": "code",
      "source": [
        "save_model(model = food_101, target_dir = \"models\", model_name = \"pretrained_effnet_b2_food101_20_percent.pth\")"
      ],
      "metadata": {
        "colab": {
          "base_uri": "https://localhost:8080/"
        },
        "id": "f59h9ORyX0gv",
        "outputId": "0707049f-48e9-40c5-c5b1-10d98a8606fb"
      },
      "execution_count": 33,
      "outputs": [
        {
          "output_type": "stream",
          "name": "stdout",
          "text": [
            "[INFO] Saving model to: models/pretrained_effnet_b2_food101_20_percent.pth\n"
          ]
        }
      ]
    },
    {
      "cell_type": "code",
      "source": [
        "import pathlib\n",
        "\n",
        "model_size = pathlib.Path(\"models/pretrained_effnet_b2_food101_20_percent.pth\").stat().st_size // (1024 * 1024)\n",
        "print(f\"Pretrained EffNet_B2 feature extractor model size: {model_size} MB.\")"
      ],
      "metadata": {
        "colab": {
          "base_uri": "https://localhost:8080/"
        },
        "id": "wjVxB9YlX_t5",
        "outputId": "7f9e7159-a8a7-45a5-93f7-69621926e39f"
      },
      "execution_count": 34,
      "outputs": [
        {
          "output_type": "stream",
          "name": "stdout",
          "text": [
            "Pretrained EffNet_B2 feature extractor model size: 30 MB.\n"
          ]
        }
      ]
    },
    {
      "cell_type": "code",
      "source": [
        "effnet_b2_total_params = sum(torch.numel(param) for param in food_101.parameters())\n",
        "effnet_b2_total_params"
      ],
      "metadata": {
        "colab": {
          "base_uri": "https://localhost:8080/"
        },
        "id": "r2TEDXOqYi5-",
        "outputId": "6afe40a5-84a3-4831-c010-09fdb7cc5f27"
      },
      "execution_count": 35,
      "outputs": [
        {
          "output_type": "execute_result",
          "data": {
            "text/plain": [
              "7843303"
            ]
          },
          "metadata": {},
          "execution_count": 35
        }
      ]
    },
    {
      "cell_type": "code",
      "source": [
        "import pathlib\n",
        "\n",
        "food_101_demo_path = pathlib.Path(\"demos/food-101/\")\n",
        "food_101_demo_path.mkdir(parents = True, exist_ok = True)\n",
        "\n",
        "(food_101_demo_path / \"examples\").mkdir(parents = True, exist_ok = True)"
      ],
      "metadata": {
        "id": "2C4-_vUGZr0W"
      },
      "execution_count": 49,
      "outputs": []
    },
    {
      "cell_type": "code",
      "source": [
        "import random\n",
        "import shutil\n",
        "\n",
        "all_images = list(pathlib.Path(\"data/food-101/images\").glob(\"*/*.jpg\"))\n",
        "random_10_images = random.sample(all_images, k = 10)\n",
        "\n",
        "examples_path = pathlib.Path(\"demos/food-101\") / \"examples\"\n",
        "examples_path.mkdir(parents = True, exist_ok = True)\n",
        "\n",
        "for random_image in random_10_images:\n",
        "  destination = examples_path / random_image.name\n",
        "  print(f\"[INFO] Copying {random_image} to {destination}\")\n",
        "  shutil.copy2(src = random_image, dst = destination)"
      ],
      "metadata": {
        "colab": {
          "base_uri": "https://localhost:8080/"
        },
        "id": "cs7aqnHfdEPx",
        "outputId": "d6749fb5-887d-4736-a353-bd5788871ba3"
      },
      "execution_count": 42,
      "outputs": [
        {
          "output_type": "stream",
          "name": "stdout",
          "text": [
            "[INFO] Copying data/food-101/images/prime_rib/3518113.jpg to demos/food-101/examples/3518113.jpg\n",
            "[INFO] Copying data/food-101/images/spaghetti_carbonara/742640.jpg to demos/food-101/examples/742640.jpg\n",
            "[INFO] Copying data/food-101/images/bibimbap/2059722.jpg to demos/food-101/examples/2059722.jpg\n",
            "[INFO] Copying data/food-101/images/strawberry_shortcake/2819144.jpg to demos/food-101/examples/2819144.jpg\n",
            "[INFO] Copying data/food-101/images/hummus/2407616.jpg to demos/food-101/examples/2407616.jpg\n",
            "[INFO] Copying data/food-101/images/panna_cotta/2221976.jpg to demos/food-101/examples/2221976.jpg\n",
            "[INFO] Copying data/food-101/images/fried_calamari/2164299.jpg to demos/food-101/examples/2164299.jpg\n",
            "[INFO] Copying data/food-101/images/pizza/2778214.jpg to demos/food-101/examples/2778214.jpg\n",
            "[INFO] Copying data/food-101/images/pancakes/144210.jpg to demos/food-101/examples/144210.jpg\n",
            "[INFO] Copying data/food-101/images/prime_rib/2749372.jpg to demos/food-101/examples/2749372.jpg\n"
          ]
        }
      ]
    },
    {
      "cell_type": "code",
      "source": [
        "!mv models/pretrained_effnet_b2_food101_20_percent.pth demos/food-101"
      ],
      "metadata": {
        "id": "Gvg2uUXleM4e"
      },
      "execution_count": 43,
      "outputs": []
    },
    {
      "cell_type": "code",
      "source": [
        "food_101_class_names_path = food_101_demo_path / \"class_names.txt\"\n",
        "\n",
        "with open(food_101_class_names_path, \"w\") as f:\n",
        "  print(f\"[INFO] Saving Food-101 class names to {food_101_class_names_path}\")\n",
        "  f.write(\"\\n\".join(train_set.classes))"
      ],
      "metadata": {
        "colab": {
          "base_uri": "https://localhost:8080/"
        },
        "id": "gGUPfxQhgo1b",
        "outputId": "345371ee-f349-4985-95d9-b64b649bb3ec"
      },
      "execution_count": 50,
      "outputs": [
        {
          "output_type": "stream",
          "name": "stdout",
          "text": [
            "[INFO] Saving Food-101 class names to demos/food-101/class_names.txt\n"
          ]
        }
      ]
    },
    {
      "cell_type": "code",
      "source": [
        "with open(food_101_class_names_path, \"r\") as f:\n",
        "  food_101_class_names_loaded = [food.strip() for food in f.readlines()]\n",
        "\n",
        "food_101_class_names_loaded[:5]"
      ],
      "metadata": {
        "colab": {
          "base_uri": "https://localhost:8080/"
        },
        "id": "-QXwEH_ahjGl",
        "outputId": "8670ce8d-9d0d-4edc-c187-901a04db93f9"
      },
      "execution_count": 51,
      "outputs": [
        {
          "output_type": "execute_result",
          "data": {
            "text/plain": [
              "['apple_pie', 'baby_back_ribs', 'baklava', 'beef_carpaccio', 'beef_tartare']"
            ]
          },
          "metadata": {},
          "execution_count": 51
        }
      ]
    }
  ]
}